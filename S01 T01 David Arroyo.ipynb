{
 "cells": [
  {
   "cell_type": "markdown",
   "metadata": {},
   "source": [
    "![Logo](Images/ITAcademy.png)",
    "\n",
    "\n",
    "# SPRINT 1 - Jupyter Notebook i Markdown\n",
    "Familiarizarse con el uso de Python como herramienta para el desarrollo de proyectos de Data Science\n",
    "\n",
    "#### DAVID AROYO\n",
    "\n",
    "##### OBJETIVOS: \n",
    "\n",
    "* Crear variables\n",
    "* Realizar operaciones matemáticas                                             \n",
    "* Transformaciones y Casting\n",
    "* Técnicas con Strings\n",
    "* Booleanos\n",
    "\n",
    "\n",
    "\n"
   ]
  },
  {
   "cell_type": "code",
   "execution_count": null,
   "metadata": {},
   "outputs": [],
   "source": [
    "'''\n",
    "Programa para determinar si la letra de un DNI introducida por el usuario es correcta o no\n",
    "\n",
    "Input: DNI completo del usuario\n",
    "Output: Validación o reprobación del DNI\n",
    "\n",
    "'''\n",
    "'''\n",
    "ETAPA I\n",
    "verificar que el DNI introducido por el usuario tiene el número de caracteres adecuados\n",
    "\n",
    "'''\n",
    "\n",
    "lettersDNI = 'TRWAGMYFPDXBNJZSQVHLCKE'\n",
    "lengthDNI = 9\n",
    "\n",
    "userDNI = input ('Por favor introduzca su DNI sin espacios ')\n",
    "\n",
    "lengthUserDNI = len(userDNI)\n",
    "\n",
    "if lengthUserDNI == lengthDNI:\n",
    "    testLengthUserDNI = True\n",
    "else:\n",
    "    testLengthUserDNI = False\n",
    "    "
   ]
  },
  {
   "cell_type": "code",
   "execution_count": null,
   "metadata": {},
   "outputs": [],
   "source": [
    "'''\n",
    "ETAPA II\n",
    "Probar si el DNI contiene las letras y números en las posiciones adecuadas\n",
    "'''\n",
    "i=0\n",
    "numbersUserDNI = userDNI[:-1]\n",
    "letterUserDNI = userDNI[-1]\n",
    "testNumbersUserDNI = True\n",
    "\n",
    "while (i < (len(numbersUserDNI)) and testNumbersUserDNI):\n",
    "    testNumbersUserDNI = userDNI[i].isnumeric()\n",
    "    i += 1\n",
    "\n",
    "testLetterUserDNI = letterUserDNI.isalpha()\n",
    "\n"
   ]
  },
  {
   "cell_type": "code",
   "execution_count": null,
   "metadata": {},
   "outputs": [],
   "source": [
    "'''\n",
    "ETAPA III\n",
    "Verificar que el DNI introducido tiene el formato adecuado y que la letra final es la adecuada\n",
    "\n",
    "'''\n",
    "\n",
    "if (testLengthUserDNI == True and testNumbersUserDNI == True and testLetterUserDNI == True):\n",
    "    numbersUserDNI = int (numbersUserDNI)\n",
    "    rest = numbersUserDNI % 23\n",
    "    letterUserDNI = letterUserDNI.upper()\n",
    "    \n",
    "    if letterUserDNI == lettersDNI[rest]:\n",
    "        print ('La letra final del DNI es correcta')\n",
    "    else:\n",
    "        print ('La letra final del DNI introducido es incorrecto, ha introducido \\\"{}\\\" cuando debería ser \\\"{}\\\"'.format(letterUserDNI, lettersDNI[rest]))\n",
    "\n",
    "else:\n",
    "    print ('Parece que el DNI introducido no coincide con el formato estandar')\n",
    "    "
   ]
  },
  {
   "cell_type": "code",
   "execution_count": null,
   "metadata": {},
   "outputs": [],
   "source": []
  }
 ],
 "metadata": {
  "kernelspec": {
   "display_name": "Python 3",
   "language": "python",
   "name": "python3"
  },
  "language_info": {
   "codemirror_mode": {
    "name": "ipython",
    "version": 3
   },
   "file_extension": ".py",
   "mimetype": "text/x-python",
   "name": "python",
   "nbconvert_exporter": "python",
   "pygments_lexer": "ipython3",
   "version": "3.8.3"
  }
 },
 "nbformat": 4,
 "nbformat_minor": 4
}
